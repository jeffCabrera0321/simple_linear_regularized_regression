{
 "cells": [
  {
   "cell_type": "markdown",
   "source": [
    "## Regularized Linear Regression"
   ],
   "metadata": {
    "collapsed": false
   }
  },
  {
   "cell_type": "code",
   "execution_count": 1,
   "outputs": [],
   "source": [
    "# import libraries\n",
    "import numpy as np\n",
    "import pandas as pd\n",
    "from pandas import Series, DataFrame\n",
    "from sklearn.linear_model import LinearRegression\n",
    "from sklearn.linear_model import Ridge, RidgeCV\n",
    "from sklearn.linear_model import Lasso, LassoCV\n",
    "from sklearn import metrics\n",
    "from sklearn.model_selection import cross_val_score, train_test_split\n",
    "from sklearn.preprocessing import StandardScaler\n",
    "from sklearn.decomposition import PCA\n",
    "import statsmodels.api as sm\n",
    "import matplotlib.pyplot as plt\n",
    "import seaborn as sns; sns,set()\n",
    "%matplotlib inline"
   ],
   "metadata": {
    "collapsed": false
   }
  },
  {
   "cell_type": "code",
   "execution_count": 2,
   "outputs": [],
   "source": [
    "# Import Data\n",
    "cols = [\"ID\", \"IntRate\", \"LoanAmt\", \"LoanTerm\", \"Debt2Inc\", \"Home_OWN\", \"Home_RENT\", \"MonthlyInc\", \"RevCredBal\", \"FICO\", \"EmpLen\"]\n",
    "loan_data = pd.read_csv(\"../data/loansDataClean.csv\")\n",
    "# see https://github.com/jeffCabrera0321/Simple_linear_regression on how this was cleaned\n",
    "loan_data = loan_data.drop([\"ID\"], axis=1)"
   ],
   "metadata": {
    "collapsed": false
   }
  },
  {
   "cell_type": "code",
   "execution_count": 3,
   "outputs": [
    {
     "data": {
      "text/plain": "   IntRate  LoanAmt  LoanTerm  Debt2Inc  Home_OWN  Home_RENT  MonthlyInc  \\\n0     8.90    20000        36     14.90     False      False     6541.67   \n1    12.12    19200        36     28.36     False      False     4583.33   \n2    21.98    35000        60     23.81     False      False    11500.00   \n3    11.71    12000        36     18.78     False       True     3195.00   \n4    15.31     6000        36     20.05      True      False     4891.67   \n\n   RevCredBal  FICO  EmpLen  \n0     14272.0   737       1  \n1     11140.0   717       2  \n2     21977.0   692       2  \n3     14469.0   697       9  \n4     10391.0   672       3  ",
      "text/html": "<div>\n<style scoped>\n    .dataframe tbody tr th:only-of-type {\n        vertical-align: middle;\n    }\n\n    .dataframe tbody tr th {\n        vertical-align: top;\n    }\n\n    .dataframe thead th {\n        text-align: right;\n    }\n</style>\n<table border=\"1\" class=\"dataframe\">\n  <thead>\n    <tr style=\"text-align: right;\">\n      <th></th>\n      <th>IntRate</th>\n      <th>LoanAmt</th>\n      <th>LoanTerm</th>\n      <th>Debt2Inc</th>\n      <th>Home_OWN</th>\n      <th>Home_RENT</th>\n      <th>MonthlyInc</th>\n      <th>RevCredBal</th>\n      <th>FICO</th>\n      <th>EmpLen</th>\n    </tr>\n  </thead>\n  <tbody>\n    <tr>\n      <th>0</th>\n      <td>8.90</td>\n      <td>20000</td>\n      <td>36</td>\n      <td>14.90</td>\n      <td>False</td>\n      <td>False</td>\n      <td>6541.67</td>\n      <td>14272.0</td>\n      <td>737</td>\n      <td>1</td>\n    </tr>\n    <tr>\n      <th>1</th>\n      <td>12.12</td>\n      <td>19200</td>\n      <td>36</td>\n      <td>28.36</td>\n      <td>False</td>\n      <td>False</td>\n      <td>4583.33</td>\n      <td>11140.0</td>\n      <td>717</td>\n      <td>2</td>\n    </tr>\n    <tr>\n      <th>2</th>\n      <td>21.98</td>\n      <td>35000</td>\n      <td>60</td>\n      <td>23.81</td>\n      <td>False</td>\n      <td>False</td>\n      <td>11500.00</td>\n      <td>21977.0</td>\n      <td>692</td>\n      <td>2</td>\n    </tr>\n    <tr>\n      <th>3</th>\n      <td>11.71</td>\n      <td>12000</td>\n      <td>36</td>\n      <td>18.78</td>\n      <td>False</td>\n      <td>True</td>\n      <td>3195.00</td>\n      <td>14469.0</td>\n      <td>697</td>\n      <td>9</td>\n    </tr>\n    <tr>\n      <th>4</th>\n      <td>15.31</td>\n      <td>6000</td>\n      <td>36</td>\n      <td>20.05</td>\n      <td>True</td>\n      <td>False</td>\n      <td>4891.67</td>\n      <td>10391.0</td>\n      <td>672</td>\n      <td>3</td>\n    </tr>\n  </tbody>\n</table>\n</div>"
     },
     "execution_count": 3,
     "metadata": {},
     "output_type": "execute_result"
    }
   ],
   "source": [
    "# Display the dataset\n",
    "loan_data.head()"
   ],
   "metadata": {
    "collapsed": false
   }
  },
  {
   "cell_type": "code",
   "execution_count": 4,
   "outputs": [
    {
     "data": {
      "text/plain": "0    0\n1    0\n2    1\n3    0\n4    0\nName: LoanTerm, dtype: int64"
     },
     "execution_count": 4,
     "metadata": {},
     "output_type": "execute_result"
    }
   ],
   "source": [
    "# Convert LoanTerm from 36 to 0 and 60 to 1\n",
    "loan_data[\"LoanTerm\"] = np.where(loan_data[\"LoanTerm\"] == 36, 0, 1)\n",
    "loan_data[\"Home_OWN\"] = np.where(loan_data[\"Home_OWN\"] == False, 0, 1)\n",
    "loan_data[\"Home_RENT\"] = np.where(loan_data[\"Home_RENT\"] == False, 0, 1)\n",
    "loan_data[\"LoanTerm\"].head()"
   ],
   "metadata": {
    "collapsed": false
   }
  },
  {
   "cell_type": "code",
   "execution_count": 5,
   "outputs": [
    {
     "data": {
      "text/plain": "   IntRate\n0     8.90\n1    12.12\n2    21.98\n3    11.71\n4    15.31",
      "text/html": "<div>\n<style scoped>\n    .dataframe tbody tr th:only-of-type {\n        vertical-align: middle;\n    }\n\n    .dataframe tbody tr th {\n        vertical-align: top;\n    }\n\n    .dataframe thead th {\n        text-align: right;\n    }\n</style>\n<table border=\"1\" class=\"dataframe\">\n  <thead>\n    <tr style=\"text-align: right;\">\n      <th></th>\n      <th>IntRate</th>\n    </tr>\n  </thead>\n  <tbody>\n    <tr>\n      <th>0</th>\n      <td>8.90</td>\n    </tr>\n    <tr>\n      <th>1</th>\n      <td>12.12</td>\n    </tr>\n    <tr>\n      <th>2</th>\n      <td>21.98</td>\n    </tr>\n    <tr>\n      <th>3</th>\n      <td>11.71</td>\n    </tr>\n    <tr>\n      <th>4</th>\n      <td>15.31</td>\n    </tr>\n  </tbody>\n</table>\n</div>"
     },
     "execution_count": 5,
     "metadata": {},
     "output_type": "execute_result"
    }
   ],
   "source": [
    "# Create the response DataFrame and display the first five records\n",
    "Y = loan_data[[\"IntRate\"]]\n",
    "Y.head()"
   ],
   "metadata": {
    "collapsed": false
   }
  },
  {
   "cell_type": "code",
   "execution_count": 6,
   "outputs": [
    {
     "data": {
      "text/plain": "   LoanAmt  Debt2Inc  MonthlyInc  FICO\n0    20000     14.90     6541.67   737\n1    19200     28.36     4583.33   717\n2    35000     23.81    11500.00   692\n3    12000     18.78     3195.00   697\n4     6000     20.05     4891.67   672",
      "text/html": "<div>\n<style scoped>\n    .dataframe tbody tr th:only-of-type {\n        vertical-align: middle;\n    }\n\n    .dataframe tbody tr th {\n        vertical-align: top;\n    }\n\n    .dataframe thead th {\n        text-align: right;\n    }\n</style>\n<table border=\"1\" class=\"dataframe\">\n  <thead>\n    <tr style=\"text-align: right;\">\n      <th></th>\n      <th>LoanAmt</th>\n      <th>Debt2Inc</th>\n      <th>MonthlyInc</th>\n      <th>FICO</th>\n    </tr>\n  </thead>\n  <tbody>\n    <tr>\n      <th>0</th>\n      <td>20000</td>\n      <td>14.90</td>\n      <td>6541.67</td>\n      <td>737</td>\n    </tr>\n    <tr>\n      <th>1</th>\n      <td>19200</td>\n      <td>28.36</td>\n      <td>4583.33</td>\n      <td>717</td>\n    </tr>\n    <tr>\n      <th>2</th>\n      <td>35000</td>\n      <td>23.81</td>\n      <td>11500.00</td>\n      <td>692</td>\n    </tr>\n    <tr>\n      <th>3</th>\n      <td>12000</td>\n      <td>18.78</td>\n      <td>3195.00</td>\n      <td>697</td>\n    </tr>\n    <tr>\n      <th>4</th>\n      <td>6000</td>\n      <td>20.05</td>\n      <td>4891.67</td>\n      <td>672</td>\n    </tr>\n  </tbody>\n</table>\n</div>"
     },
     "execution_count": 6,
     "metadata": {},
     "output_type": "execute_result"
    }
   ],
   "source": [
    "# Create the predictors DataFrame for the predictors to be standardized and display the first records\n",
    "# see https://github.com/jeffCabrera0321/Simple_linear_regression on why these independents features were chosen\n",
    "X_std = loan_data[[\"LoanAmt\", \"Debt2Inc\", \"MonthlyInc\", \"FICO\"]]\n",
    "X_std.head()"
   ],
   "metadata": {
    "collapsed": false
   }
  },
  {
   "cell_type": "code",
   "execution_count": 7,
   "outputs": [
    {
     "data": {
      "text/plain": "array([[ 1.1276208 , -0.1056352 ,  0.32047414,  0.97751917],\n       [ 1.02010707,  1.65831149, -0.29431579,  0.37469848],\n       [ 3.14350321,  1.06202936,  1.87706358, -0.37882739],\n       [ 0.05248351,  0.40284275, -0.73016008, -0.22812221],\n       [-0.75386945,  0.56927754, -0.19751732, -0.98164808]])"
     },
     "execution_count": 7,
     "metadata": {},
     "output_type": "execute_result"
    }
   ],
   "source": [
    "# Standardize teh predictors and display the first five rows\n",
    "sc = StandardScaler()\n",
    "X_std = sc.fit_transform(X_std)\n",
    "X_std[:5]"
   ],
   "metadata": {
    "collapsed": false
   }
  },
  {
   "cell_type": "code",
   "execution_count": 8,
   "outputs": [
    {
     "data": {
      "text/plain": "    LoanAmt  Debt2Inc  MonthlyInc      FICO\n0  1.127621 -0.105635    0.320474  0.977519\n1  1.020107  1.658311   -0.294316  0.374698\n2  3.143503  1.062029    1.877064 -0.378827\n3  0.052484  0.402843   -0.730160 -0.228122\n4 -0.753869  0.569278   -0.197517 -0.981648",
      "text/html": "<div>\n<style scoped>\n    .dataframe tbody tr th:only-of-type {\n        vertical-align: middle;\n    }\n\n    .dataframe tbody tr th {\n        vertical-align: top;\n    }\n\n    .dataframe thead th {\n        text-align: right;\n    }\n</style>\n<table border=\"1\" class=\"dataframe\">\n  <thead>\n    <tr style=\"text-align: right;\">\n      <th></th>\n      <th>LoanAmt</th>\n      <th>Debt2Inc</th>\n      <th>MonthlyInc</th>\n      <th>FICO</th>\n    </tr>\n  </thead>\n  <tbody>\n    <tr>\n      <th>0</th>\n      <td>1.127621</td>\n      <td>-0.105635</td>\n      <td>0.320474</td>\n      <td>0.977519</td>\n    </tr>\n    <tr>\n      <th>1</th>\n      <td>1.020107</td>\n      <td>1.658311</td>\n      <td>-0.294316</td>\n      <td>0.374698</td>\n    </tr>\n    <tr>\n      <th>2</th>\n      <td>3.143503</td>\n      <td>1.062029</td>\n      <td>1.877064</td>\n      <td>-0.378827</td>\n    </tr>\n    <tr>\n      <th>3</th>\n      <td>0.052484</td>\n      <td>0.402843</td>\n      <td>-0.730160</td>\n      <td>-0.228122</td>\n    </tr>\n    <tr>\n      <th>4</th>\n      <td>-0.753869</td>\n      <td>0.569278</td>\n      <td>-0.197517</td>\n      <td>-0.981648</td>\n    </tr>\n  </tbody>\n</table>\n</div>"
     },
     "execution_count": 8,
     "metadata": {},
     "output_type": "execute_result"
    }
   ],
   "source": [
    "# Create a DataFrame from these standardized predictors and display the first five records\n",
    "X_std = DataFrame(X_std, columns=[\"LoanAmt\", \"Debt2Inc\", \"MonthlyInc\", \"FICO\"])\n",
    "X_std.head()"
   ],
   "metadata": {
    "collapsed": false
   }
  },
  {
   "cell_type": "code",
   "execution_count": 9,
   "outputs": [
    {
     "data": {
      "text/plain": "    LoanAmt  Debt2Inc  MonthlyInc      FICO  LoanTerm  Home_RENT\n0  1.127621 -0.105635    0.320474  0.977519         0          0\n1  1.020107  1.658311   -0.294316  0.374698         0          0\n2  3.143503  1.062029    1.877064 -0.378827         1          0\n3  0.052484  0.402843   -0.730160 -0.228122         0          1\n4 -0.753869  0.569278   -0.197517 -0.981648         0          0",
      "text/html": "<div>\n<style scoped>\n    .dataframe tbody tr th:only-of-type {\n        vertical-align: middle;\n    }\n\n    .dataframe tbody tr th {\n        vertical-align: top;\n    }\n\n    .dataframe thead th {\n        text-align: right;\n    }\n</style>\n<table border=\"1\" class=\"dataframe\">\n  <thead>\n    <tr style=\"text-align: right;\">\n      <th></th>\n      <th>LoanAmt</th>\n      <th>Debt2Inc</th>\n      <th>MonthlyInc</th>\n      <th>FICO</th>\n      <th>LoanTerm</th>\n      <th>Home_RENT</th>\n    </tr>\n  </thead>\n  <tbody>\n    <tr>\n      <th>0</th>\n      <td>1.127621</td>\n      <td>-0.105635</td>\n      <td>0.320474</td>\n      <td>0.977519</td>\n      <td>0</td>\n      <td>0</td>\n    </tr>\n    <tr>\n      <th>1</th>\n      <td>1.020107</td>\n      <td>1.658311</td>\n      <td>-0.294316</td>\n      <td>0.374698</td>\n      <td>0</td>\n      <td>0</td>\n    </tr>\n    <tr>\n      <th>2</th>\n      <td>3.143503</td>\n      <td>1.062029</td>\n      <td>1.877064</td>\n      <td>-0.378827</td>\n      <td>1</td>\n      <td>0</td>\n    </tr>\n    <tr>\n      <th>3</th>\n      <td>0.052484</td>\n      <td>0.402843</td>\n      <td>-0.730160</td>\n      <td>-0.228122</td>\n      <td>0</td>\n      <td>1</td>\n    </tr>\n    <tr>\n      <th>4</th>\n      <td>-0.753869</td>\n      <td>0.569278</td>\n      <td>-0.197517</td>\n      <td>-0.981648</td>\n      <td>0</td>\n      <td>0</td>\n    </tr>\n  </tbody>\n</table>\n</div>"
     },
     "execution_count": 9,
     "metadata": {},
     "output_type": "execute_result"
    }
   ],
   "source": [
    "# Join together the standardized and indicator columns into the predictors DataFrame\n",
    "X = X_std.join(loan_data[\"LoanTerm\"])\n",
    "X = X.join(loan_data[\"Home_RENT\"])\n",
    "X.head()"
   ],
   "metadata": {
    "collapsed": false
   }
  },
  {
   "cell_type": "code",
   "execution_count": 10,
   "outputs": [
    {
     "name": "stdout",
     "output_type": "stream",
     "text": [
      "                            OLS Regression Results                            \n",
      "==============================================================================\n",
      "Dep. Variable:                IntRate   R-squared:                       0.753\n",
      "Model:                            OLS   Adj. R-squared:                  0.752\n",
      "Method:                 Least Squares   F-statistic:                     887.7\n",
      "Date:                Wed, 11 Dec 2024   Prob (F-statistic):               0.00\n",
      "Time:                        23:24:50   Log-Likelihood:                -3774.3\n",
      "No. Observations:                1752   AIC:                             7563.\n",
      "Df Residuals:                    1745   BIC:                             7601.\n",
      "Df Model:                           6                                         \n",
      "Covariance Type:            nonrobust                                         \n",
      "==============================================================================\n",
      "                 coef    std err          t      P>|t|      [0.025      0.975]\n",
      "------------------------------------------------------------------------------\n",
      "const         12.3818      0.075    164.891      0.000      12.235      12.529\n",
      "LoanAmt        1.0868      0.061     17.783      0.000       0.967       1.207\n",
      "Debt2Inc      -0.1328      0.053     -2.512      0.012      -0.236      -0.029\n",
      "MonthlyInc    -0.1499      0.058     -2.566      0.010      -0.264      -0.035\n",
      "FICO          -3.1272      0.052    -60.444      0.000      -3.229      -3.026\n",
      "LoanTerm       3.4120      0.140     24.427      0.000       3.138       3.686\n",
      "Home_RENT      0.2322      0.103      2.257      0.024       0.030       0.434\n",
      "==============================================================================\n",
      "Omnibus:                      109.283   Durbin-Watson:                   1.934\n",
      "Prob(Omnibus):                  0.000   Jarque-Bera (JB):              180.530\n",
      "Skew:                           0.482   Prob(JB):                     6.29e-40\n",
      "Kurtosis:                       4.242   Cond. No.                         3.63\n",
      "==============================================================================\n",
      "\n",
      "Notes:\n",
      "[1] Standard Errors assume that the covariance matrix of the errors is correctly specified.\n"
     ]
    }
   ],
   "source": [
    "# Produce summary report using OLS\n",
    "X_ols = sm.add_constant(X)\n",
    "loan_model = sm.OLS(Y, X_ols)\n",
    "loan_model = loan_model.fit()\n",
    "print(loan_model.summary())"
   ],
   "metadata": {
    "collapsed": false
   }
  },
  {
   "cell_type": "code",
   "execution_count": 11,
   "outputs": [
    {
     "data": {
      "text/plain": "const         12.381839\nLoanAmt        1.086789\nDebt2Inc      -0.132790\nMonthlyInc    -0.149863\nFICO          -3.127157\nLoanTerm       3.412037\nHome_RENT      0.232231\ndtype: float64"
     },
     "execution_count": 11,
     "metadata": {},
     "output_type": "execute_result"
    }
   ],
   "source": [
    "# Create coefficient array from the report\n",
    "coeff = loan_model.params\n",
    "coeff"
   ],
   "metadata": {
    "collapsed": false
   }
  },
  {
   "cell_type": "code",
   "execution_count": 12,
   "outputs": [
    {
     "data": {
      "text/plain": "array([11609.47488584,    15.70606164,  5520.83785388,   704.56849315])"
     },
     "execution_count": 12,
     "metadata": {},
     "output_type": "execute_result"
    }
   ],
   "source": [
    "# Display the means of the standardized variables\n",
    "sc.mean_"
   ],
   "metadata": {
    "collapsed": false
   }
  },
  {
   "cell_type": "code",
   "execution_count": 13,
   "outputs": [],
   "source": [
    "# Base case sample\n",
    "LoanAmt = 10000\n",
    "Debt2Inc = 20\n",
    "MonthlyInc = 5000\n",
    "FICO = 700\n",
    "LoanTerm = 0 # 36 month = 0\n",
    "Home_RENT = 0 # Home_MORT or Home_OWN = 0"
   ],
   "metadata": {
    "collapsed": false
   }
  },
  {
   "cell_type": "code",
   "execution_count": 14,
   "outputs": [
    {
     "data": {
      "text/plain": "[10000, 20, 5000, 700]"
     },
     "execution_count": 14,
     "metadata": {},
     "output_type": "execute_result"
    }
   ],
   "source": [
    "# Create a sample array for standardization\n",
    "sample = [LoanAmt, Debt2Inc, MonthlyInc, FICO]\n",
    "sample"
   ],
   "metadata": {
    "collapsed": false
   }
  },
  {
   "cell_type": "code",
   "execution_count": 15,
   "outputs": [
    {
     "data": {
      "text/plain": "array([-0.21630081,  0.56272499, -0.16350882, -0.13769911])"
     },
     "execution_count": 15,
     "metadata": {},
     "output_type": "execute_result"
    }
   ],
   "source": [
    "# Standardize the sample\n",
    "std_sample = (sample - sc.mean_) / sc.scale_\n",
    "std_sample"
   ],
   "metadata": {
    "collapsed": false
   }
  },
  {
   "cell_type": "code",
   "execution_count": 16,
   "outputs": [
    {
     "data": {
      "text/plain": "np.float64(12.527151788581584)"
     },
     "execution_count": 16,
     "metadata": {},
     "output_type": "execute_result"
    }
   ],
   "source": [
    "# Predict interest rate for base case sample\n",
    "LoanAmt = std_sample[0]\n",
    "Debt2Inc = std_sample[1]\n",
    "MonthlyInc = std_sample[2]\n",
    "FICO = std_sample[3]\n",
    "base_int_rate = (coeff.iloc[0] +\n",
    "                 coeff.iloc[1]*LoanAmt +\n",
    "                 coeff.iloc[2]*Debt2Inc +\n",
    "                 coeff.iloc[3]*MonthlyInc +\n",
    "                 coeff.iloc[4]*FICO +\n",
    "                 coeff.iloc[5]*LoanTerm +\n",
    "                 coeff.iloc[6]*Home_RENT)\n",
    "base_int_rate"
   ],
   "metadata": {
    "collapsed": false
   }
  },
  {
   "cell_type": "code",
   "execution_count": 17,
   "outputs": [],
   "source": [
    "# New sample: LoanAmt changed by one std dev unit\n",
    "LoanAmt = 10000 + sc.scale_[0] # 17440.91\n",
    "Debt2Inc = 20\n",
    "MonthlyInc = 5000\n",
    "FICO = 700"
   ],
   "metadata": {
    "collapsed": false
   }
  },
  {
   "cell_type": "code",
   "execution_count": 18,
   "outputs": [
    {
     "data": {
      "text/plain": "array([ 0.78369919,  0.56272499, -0.16350882, -0.13769911])"
     },
     "execution_count": 18,
     "metadata": {},
     "output_type": "execute_result"
    }
   ],
   "source": [
    "# Standardize the new sample\n",
    "sample = [LoanAmt, Debt2Inc, MonthlyInc, FICO]\n",
    "std_sample = (sample - sc.mean_) / sc.scale_\n",
    "std_sample"
   ],
   "metadata": {
    "collapsed": false
   }
  },
  {
   "cell_type": "code",
   "execution_count": 19,
   "outputs": [
    {
     "data": {
      "text/plain": "np.float64(13.613940693821647)"
     },
     "execution_count": 19,
     "metadata": {},
     "output_type": "execute_result"
    }
   ],
   "source": [
    "# Predict interest rate for new sample\n",
    "LoanAmt = std_sample[0]\n",
    "Debt2Inc = std_sample[1]\n",
    "MonthlyInc = std_sample[2]\n",
    "FICO = std_sample[3]\n",
    "int_rate = (coeff.iloc[0] +\n",
    "            coeff.iloc[1]*LoanAmt +\n",
    "            coeff.iloc[2]*Debt2Inc +\n",
    "            coeff.iloc[3]*MonthlyInc +\n",
    "            coeff.iloc[4]*FICO +\n",
    "            coeff.iloc[5]*LoanTerm +\n",
    "            coeff.iloc[6]*Home_RENT)\n",
    "int_rate"
   ],
   "metadata": {
    "collapsed": false
   }
  },
  {
   "cell_type": "code",
   "execution_count": 20,
   "outputs": [
    {
     "data": {
      "text/plain": "np.float64(13.613940693821647)"
     },
     "execution_count": 20,
     "metadata": {},
     "output_type": "execute_result"
    }
   ],
   "source": [
    "# Check the model interpretation\n",
    "base_int_rate + coeff.iloc[1]"
   ],
   "metadata": {
    "collapsed": false
   }
  },
  {
   "cell_type": "code",
   "execution_count": 21,
   "outputs": [],
   "source": [
    "# New sample: Debt2Inc changed by one std dev\n",
    "LoanAmt = 10000\n",
    "Debt2Inc = 20 + sc.scale_[1] # 27.630616\n",
    "MonthlyInc = 5000\n",
    "FICO = 700"
   ],
   "metadata": {
    "collapsed": false
   }
  },
  {
   "cell_type": "code",
   "execution_count": 22,
   "outputs": [
    {
     "data": {
      "text/plain": "array([-0.21630081,  1.56272499, -0.16350882, -0.13769911])"
     },
     "execution_count": 22,
     "metadata": {},
     "output_type": "execute_result"
    }
   ],
   "source": [
    "# Standardize the new sample\n",
    "sample = [LoanAmt, Debt2Inc, MonthlyInc, FICO]\n",
    "std_sample = (sample - sc.mean_) / sc.scale_\n",
    "std_sample"
   ],
   "metadata": {
    "collapsed": false
   }
  },
  {
   "cell_type": "code",
   "execution_count": 23,
   "outputs": [
    {
     "data": {
      "text/plain": "np.float64(12.394362053524517)"
     },
     "execution_count": 23,
     "metadata": {},
     "output_type": "execute_result"
    }
   ],
   "source": [
    "# Predict interest rate for new sample\n",
    "LoanAmt = std_sample[0]\n",
    "Debt2Inc = std_sample[1]\n",
    "MonthlyInc = std_sample[2]\n",
    "FICO = std_sample[3]\n",
    "int_rate = (coeff.iloc[0] +\n",
    "            coeff.iloc[1]*LoanAmt +\n",
    "            coeff.iloc[2]*Debt2Inc +\n",
    "            coeff.iloc[3]*MonthlyInc +\n",
    "            coeff.iloc[4]*FICO +\n",
    "            coeff.iloc[5]*LoanTerm +\n",
    "            coeff.iloc[6]*Home_RENT)\n",
    "int_rate"
   ],
   "metadata": {
    "collapsed": false
   }
  },
  {
   "cell_type": "code",
   "execution_count": 24,
   "outputs": [
    {
     "data": {
      "text/plain": "np.float64(12.394362053524517)"
     },
     "execution_count": 24,
     "metadata": {},
     "output_type": "execute_result"
    }
   ],
   "source": [
    "# Check the model interpretation\n",
    "base_int_rate + coeff.iloc[2]"
   ],
   "metadata": {
    "collapsed": false
   }
  },
  {
   "cell_type": "markdown",
   "source": [
    "## Linear Regression Analysis Using OLS – No Scaling"
   ],
   "metadata": {
    "collapsed": false
   }
  },
  {
   "cell_type": "code",
   "execution_count": 25,
   "outputs": [],
   "source": [
    "# Create new DataFrames for new predictions\n",
    "Y = loan_data[[\"IntRate\"]]\n",
    "X = loan_data.drop([\"IntRate\"], axis=1)"
   ],
   "metadata": {
    "collapsed": false
   }
  },
  {
   "cell_type": "code",
   "execution_count": 26,
   "outputs": [
    {
     "name": "stdout",
     "output_type": "stream",
     "text": [
      "                            OLS Regression Results                            \n",
      "==============================================================================\n",
      "Dep. Variable:                IntRate   R-squared:                       0.753\n",
      "Model:                            OLS   Adj. R-squared:                  0.752\n",
      "Method:                 Least Squares   F-statistic:                     887.7\n",
      "Date:                Wed, 11 Dec 2024   Prob (F-statistic):               0.00\n",
      "Time:                        23:24:50   Log-Likelihood:                -3774.3\n",
      "No. Observations:                1752   AIC:                             7563.\n",
      "Df Residuals:                    1745   BIC:                             7601.\n",
      "Df Model:                           6                                         \n",
      "Covariance Type:            nonrobust                                         \n",
      "==============================================================================\n",
      "                 coef    std err          t      P>|t|      [0.025      0.975]\n",
      "------------------------------------------------------------------------------\n",
      "const         12.3818      0.075    164.891      0.000      12.235      12.529\n",
      "LoanAmt        1.0868      0.061     17.783      0.000       0.967       1.207\n",
      "Debt2Inc      -0.1328      0.053     -2.512      0.012      -0.236      -0.029\n",
      "MonthlyInc    -0.1499      0.058     -2.566      0.010      -0.264      -0.035\n",
      "FICO          -3.1272      0.052    -60.444      0.000      -3.229      -3.026\n",
      "LoanTerm       3.4120      0.140     24.427      0.000       3.138       3.686\n",
      "Home_RENT      0.2322      0.103      2.257      0.024       0.030       0.434\n",
      "==============================================================================\n",
      "Omnibus:                      109.283   Durbin-Watson:                   1.934\n",
      "Prob(Omnibus):                  0.000   Jarque-Bera (JB):              180.530\n",
      "Skew:                           0.482   Prob(JB):                     6.29e-40\n",
      "Kurtosis:                       4.242   Cond. No.                         3.63\n",
      "==============================================================================\n",
      "\n",
      "Notes:\n",
      "[1] Standard Errors assume that the covariance matrix of the errors is correctly specified.\n"
     ]
    }
   ],
   "source": [
    "# Produce summary report using OLS:\n",
    "x_ols = sm.add_constant(X)\n",
    "loan_model = sm.OLS(Y, X_ols)\n",
    "loan_model = loan_model.fit()\n",
    "print(loan_model.summary())"
   ],
   "metadata": {
    "collapsed": false
   }
  },
  {
   "cell_type": "code",
   "execution_count": 27,
   "outputs": [],
   "source": [
    "# Let's create a function to reduce repetitive actions\n",
    "def viewOLS(X_variable):\n",
    "    # Add a constant to the independent variable matrix to hold the y_intercept\n",
    "    X_ss = sm.add_constant(X_variable)\n",
    "    # Create the linear regression model using Y and X_std0\n",
    "    loan_model = sm.OLS(Y, X_ss)\n",
    "    # Fit the model to the data\n",
    "    loan_model = loan_model.fit()\n",
    "    return loan_model"
   ],
   "metadata": {
    "collapsed": false
   }
  },
  {
   "cell_type": "code",
   "execution_count": 28,
   "outputs": [
    {
     "data": {
      "text/plain": "   LoanAmt  LoanTerm  Debt2Inc  Home_OWN  Home_RENT  MonthlyInc  RevCredBal  \\\n0    20000         0     14.90         0          0     6541.67     14272.0   \n1    19200         0     28.36         0          0     4583.33     11140.0   \n2    35000         1     23.81         0          0    11500.00     21977.0   \n3    12000         0     18.78         0          1     3195.00     14469.0   \n4     6000         0     20.05         1          0     4891.67     10391.0   \n\n   FICO  \n0   737  \n1   717  \n2   692  \n3   697  \n4   672  ",
      "text/html": "<div>\n<style scoped>\n    .dataframe tbody tr th:only-of-type {\n        vertical-align: middle;\n    }\n\n    .dataframe tbody tr th {\n        vertical-align: top;\n    }\n\n    .dataframe thead th {\n        text-align: right;\n    }\n</style>\n<table border=\"1\" class=\"dataframe\">\n  <thead>\n    <tr style=\"text-align: right;\">\n      <th></th>\n      <th>LoanAmt</th>\n      <th>LoanTerm</th>\n      <th>Debt2Inc</th>\n      <th>Home_OWN</th>\n      <th>Home_RENT</th>\n      <th>MonthlyInc</th>\n      <th>RevCredBal</th>\n      <th>FICO</th>\n    </tr>\n  </thead>\n  <tbody>\n    <tr>\n      <th>0</th>\n      <td>20000</td>\n      <td>0</td>\n      <td>14.90</td>\n      <td>0</td>\n      <td>0</td>\n      <td>6541.67</td>\n      <td>14272.0</td>\n      <td>737</td>\n    </tr>\n    <tr>\n      <th>1</th>\n      <td>19200</td>\n      <td>0</td>\n      <td>28.36</td>\n      <td>0</td>\n      <td>0</td>\n      <td>4583.33</td>\n      <td>11140.0</td>\n      <td>717</td>\n    </tr>\n    <tr>\n      <th>2</th>\n      <td>35000</td>\n      <td>1</td>\n      <td>23.81</td>\n      <td>0</td>\n      <td>0</td>\n      <td>11500.00</td>\n      <td>21977.0</td>\n      <td>692</td>\n    </tr>\n    <tr>\n      <th>3</th>\n      <td>12000</td>\n      <td>0</td>\n      <td>18.78</td>\n      <td>0</td>\n      <td>1</td>\n      <td>3195.00</td>\n      <td>14469.0</td>\n      <td>697</td>\n    </tr>\n    <tr>\n      <th>4</th>\n      <td>6000</td>\n      <td>0</td>\n      <td>20.05</td>\n      <td>1</td>\n      <td>0</td>\n      <td>4891.67</td>\n      <td>10391.0</td>\n      <td>672</td>\n    </tr>\n  </tbody>\n</table>\n</div>"
     },
     "execution_count": 28,
     "metadata": {},
     "output_type": "execute_result"
    }
   ],
   "source": [
    "# Dropping the highest p-value variable EmpLen\n",
    "X = loan_data.drop([\"IntRate\", \"EmpLen\"], axis=1)\n",
    "X.head()"
   ],
   "metadata": {
    "collapsed": false
   }
  },
  {
   "cell_type": "code",
   "execution_count": 29,
   "outputs": [
    {
     "name": "stdout",
     "output_type": "stream",
     "text": [
      "                            OLS Regression Results                            \n",
      "==============================================================================\n",
      "Dep. Variable:                IntRate   R-squared:                       0.754\n",
      "Model:                            OLS   Adj. R-squared:                  0.753\n",
      "Method:                 Least Squares   F-statistic:                     667.8\n",
      "Date:                Wed, 11 Dec 2024   Prob (F-statistic):               0.00\n",
      "Time:                        23:24:50   Log-Likelihood:                -3771.6\n",
      "No. Observations:                1752   AIC:                             7561.\n",
      "Df Residuals:                    1743   BIC:                             7610.\n",
      "Df Model:                           8                                         \n",
      "Covariance Type:            nonrobust                                         \n",
      "==============================================================================\n",
      "                 coef    std err          t      P>|t|      [0.025      0.975]\n",
      "------------------------------------------------------------------------------\n",
      "const         77.4697      1.135     68.227      0.000      75.243      79.697\n",
      "LoanAmt        0.0001   8.31e-06     17.842      0.000       0.000       0.000\n",
      "LoanTerm       3.4144      0.140     24.465      0.000       3.141       3.688\n",
      "Debt2Inc      -0.0141      0.007     -1.943      0.052      -0.028       0.000\n",
      "Home_OWN       0.3319      0.191      1.738      0.082      -0.043       0.706\n",
      "Home_RENT      0.2784      0.109      2.554      0.011       0.065       0.492\n",
      "MonthlyInc -3.173e-05   1.99e-05     -1.596      0.111   -7.07e-05    7.27e-06\n",
      "RevCredBal -6.493e-06   4.37e-06     -1.487      0.137   -1.51e-05    2.07e-06\n",
      "FICO          -0.0942      0.002    -60.451      0.000      -0.097      -0.091\n",
      "==============================================================================\n",
      "Omnibus:                      111.850   Durbin-Watson:                   1.934\n",
      "Prob(Omnibus):                  0.000   Jarque-Bera (JB):              185.978\n",
      "Skew:                           0.489   Prob(JB):                     4.12e-41\n",
      "Kurtosis:                       4.262   Cond. No.                     5.27e+05\n",
      "==============================================================================\n",
      "\n",
      "Notes:\n",
      "[1] Standard Errors assume that the covariance matrix of the errors is correctly specified.\n",
      "[2] The condition number is large, 5.27e+05. This might indicate that there are\n",
      "strong multicollinearity or other numerical problems.\n"
     ]
    }
   ],
   "source": [
    "loan_model1 = viewOLS(X)\n",
    "print(loan_model1.summary())"
   ],
   "metadata": {
    "collapsed": false
   }
  },
  {
   "cell_type": "code",
   "execution_count": 30,
   "outputs": [
    {
     "data": {
      "text/plain": "   LoanAmt  LoanTerm  Debt2Inc  Home_OWN  Home_RENT  MonthlyInc  FICO\n0    20000         0     14.90         0          0     6541.67   737\n1    19200         0     28.36         0          0     4583.33   717\n2    35000         1     23.81         0          0    11500.00   692\n3    12000         0     18.78         0          1     3195.00   697\n4     6000         0     20.05         1          0     4891.67   672",
      "text/html": "<div>\n<style scoped>\n    .dataframe tbody tr th:only-of-type {\n        vertical-align: middle;\n    }\n\n    .dataframe tbody tr th {\n        vertical-align: top;\n    }\n\n    .dataframe thead th {\n        text-align: right;\n    }\n</style>\n<table border=\"1\" class=\"dataframe\">\n  <thead>\n    <tr style=\"text-align: right;\">\n      <th></th>\n      <th>LoanAmt</th>\n      <th>LoanTerm</th>\n      <th>Debt2Inc</th>\n      <th>Home_OWN</th>\n      <th>Home_RENT</th>\n      <th>MonthlyInc</th>\n      <th>FICO</th>\n    </tr>\n  </thead>\n  <tbody>\n    <tr>\n      <th>0</th>\n      <td>20000</td>\n      <td>0</td>\n      <td>14.90</td>\n      <td>0</td>\n      <td>0</td>\n      <td>6541.67</td>\n      <td>737</td>\n    </tr>\n    <tr>\n      <th>1</th>\n      <td>19200</td>\n      <td>0</td>\n      <td>28.36</td>\n      <td>0</td>\n      <td>0</td>\n      <td>4583.33</td>\n      <td>717</td>\n    </tr>\n    <tr>\n      <th>2</th>\n      <td>35000</td>\n      <td>1</td>\n      <td>23.81</td>\n      <td>0</td>\n      <td>0</td>\n      <td>11500.00</td>\n      <td>692</td>\n    </tr>\n    <tr>\n      <th>3</th>\n      <td>12000</td>\n      <td>0</td>\n      <td>18.78</td>\n      <td>0</td>\n      <td>1</td>\n      <td>3195.00</td>\n      <td>697</td>\n    </tr>\n    <tr>\n      <th>4</th>\n      <td>6000</td>\n      <td>0</td>\n      <td>20.05</td>\n      <td>1</td>\n      <td>0</td>\n      <td>4891.67</td>\n      <td>672</td>\n    </tr>\n  </tbody>\n</table>\n</div>"
     },
     "execution_count": 30,
     "metadata": {},
     "output_type": "execute_result"
    }
   ],
   "source": [
    "# Dropping the highest p-value variable RevCredBal\n",
    "X = loan_data.drop([\"IntRate\", \"EmpLen\", \"RevCredBal\"], axis=1)\n",
    "X.head()"
   ],
   "metadata": {
    "collapsed": false
   }
  },
  {
   "cell_type": "code",
   "execution_count": 31,
   "outputs": [
    {
     "name": "stdout",
     "output_type": "stream",
     "text": [
      "                            OLS Regression Results                            \n",
      "==============================================================================\n",
      "Dep. Variable:                IntRate   R-squared:                       0.754\n",
      "Model:                            OLS   Adj. R-squared:                  0.753\n",
      "Method:                 Least Squares   F-statistic:                     762.4\n",
      "Date:                Wed, 11 Dec 2024   Prob (F-statistic):               0.00\n",
      "Time:                        23:24:51   Log-Likelihood:                -3772.7\n",
      "No. Observations:                1752   AIC:                             7561.\n",
      "Df Residuals:                    1744   BIC:                             7605.\n",
      "Df Model:                           7                                         \n",
      "Covariance Type:            nonrobust                                         \n",
      "==============================================================================\n",
      "                 coef    std err          t      P>|t|      [0.025      0.975]\n",
      "------------------------------------------------------------------------------\n",
      "const         77.4918      1.136     68.229      0.000      75.264      79.719\n",
      "LoanAmt        0.0001   8.21e-06     17.820      0.000       0.000       0.000\n",
      "LoanTerm       3.4157      0.140     24.467      0.000       3.142       3.689\n",
      "Debt2Inc      -0.0173      0.007     -2.496      0.013      -0.031      -0.004\n",
      "Home_OWN       0.3454      0.191      1.810      0.070      -0.029       0.720\n",
      "Home_RENT      0.2948      0.108      2.718      0.007       0.082       0.508\n",
      "MonthlyInc -4.264e-05   1.85e-05     -2.307      0.021   -7.89e-05   -6.38e-06\n",
      "FICO          -0.0942      0.002    -60.421      0.000      -0.097      -0.091\n",
      "==============================================================================\n",
      "Omnibus:                      109.928   Durbin-Watson:                   1.934\n",
      "Prob(Omnibus):                  0.000   Jarque-Bera (JB):              181.542\n",
      "Skew:                           0.484   Prob(JB):                     3.79e-40\n",
      "Kurtosis:                       4.244   Cond. No.                     3.39e+05\n",
      "==============================================================================\n",
      "\n",
      "Notes:\n",
      "[1] Standard Errors assume that the covariance matrix of the errors is correctly specified.\n",
      "[2] The condition number is large, 3.39e+05. This might indicate that there are\n",
      "strong multicollinearity or other numerical problems.\n"
     ]
    }
   ],
   "source": [
    "loan_model2 = viewOLS(X)\n",
    "print(loan_model2.summary())"
   ],
   "metadata": {
    "collapsed": false
   }
  },
  {
   "cell_type": "code",
   "execution_count": 32,
   "outputs": [
    {
     "data": {
      "text/plain": "   LoanAmt  LoanTerm  Debt2Inc  Home_RENT  MonthlyInc  FICO\n0    20000         0     14.90          0     6541.67   737\n1    19200         0     28.36          0     4583.33   717\n2    35000         1     23.81          0    11500.00   692\n3    12000         0     18.78          1     3195.00   697\n4     6000         0     20.05          0     4891.67   672",
      "text/html": "<div>\n<style scoped>\n    .dataframe tbody tr th:only-of-type {\n        vertical-align: middle;\n    }\n\n    .dataframe tbody tr th {\n        vertical-align: top;\n    }\n\n    .dataframe thead th {\n        text-align: right;\n    }\n</style>\n<table border=\"1\" class=\"dataframe\">\n  <thead>\n    <tr style=\"text-align: right;\">\n      <th></th>\n      <th>LoanAmt</th>\n      <th>LoanTerm</th>\n      <th>Debt2Inc</th>\n      <th>Home_RENT</th>\n      <th>MonthlyInc</th>\n      <th>FICO</th>\n    </tr>\n  </thead>\n  <tbody>\n    <tr>\n      <th>0</th>\n      <td>20000</td>\n      <td>0</td>\n      <td>14.90</td>\n      <td>0</td>\n      <td>6541.67</td>\n      <td>737</td>\n    </tr>\n    <tr>\n      <th>1</th>\n      <td>19200</td>\n      <td>0</td>\n      <td>28.36</td>\n      <td>0</td>\n      <td>4583.33</td>\n      <td>717</td>\n    </tr>\n    <tr>\n      <th>2</th>\n      <td>35000</td>\n      <td>1</td>\n      <td>23.81</td>\n      <td>0</td>\n      <td>11500.00</td>\n      <td>692</td>\n    </tr>\n    <tr>\n      <th>3</th>\n      <td>12000</td>\n      <td>0</td>\n      <td>18.78</td>\n      <td>1</td>\n      <td>3195.00</td>\n      <td>697</td>\n    </tr>\n    <tr>\n      <th>4</th>\n      <td>6000</td>\n      <td>0</td>\n      <td>20.05</td>\n      <td>0</td>\n      <td>4891.67</td>\n      <td>672</td>\n    </tr>\n  </tbody>\n</table>\n</div>"
     },
     "execution_count": 32,
     "metadata": {},
     "output_type": "execute_result"
    }
   ],
   "source": [
    "# Dropping the highest p-value variable RevCredBal\n",
    "X = loan_data.drop([\"IntRate\", \"EmpLen\", \"RevCredBal\", \"Home_OWN\"], axis=1)\n",
    "X.head()"
   ],
   "metadata": {
    "collapsed": false
   }
  },
  {
   "cell_type": "code",
   "execution_count": 33,
   "outputs": [
    {
     "name": "stdout",
     "output_type": "stream",
     "text": [
      "                            OLS Regression Results                            \n",
      "==============================================================================\n",
      "Dep. Variable:                IntRate   R-squared:                       0.753\n",
      "Model:                            OLS   Adj. R-squared:                  0.752\n",
      "Method:                 Least Squares   F-statistic:                     887.7\n",
      "Date:                Wed, 11 Dec 2024   Prob (F-statistic):               0.00\n",
      "Time:                        23:24:51   Log-Likelihood:                -3774.3\n",
      "No. Observations:                1752   AIC:                             7563.\n",
      "Df Residuals:                    1745   BIC:                             7601.\n",
      "Df Model:                           6                                         \n",
      "Covariance Type:            nonrobust                                         \n",
      "==============================================================================\n",
      "                 coef    std err          t      P>|t|      [0.025      0.975]\n",
      "------------------------------------------------------------------------------\n",
      "const         77.6289      1.134     68.457      0.000      75.405      79.853\n",
      "LoanAmt        0.0001   8.21e-06     17.783      0.000       0.000       0.000\n",
      "LoanTerm       3.4120      0.140     24.427      0.000       3.138       3.686\n",
      "Debt2Inc      -0.0174      0.007     -2.512      0.012      -0.031      -0.004\n",
      "Home_RENT      0.2322      0.103      2.257      0.024       0.030       0.434\n",
      "MonthlyInc -4.705e-05   1.83e-05     -2.566      0.010    -8.3e-05   -1.11e-05\n",
      "FICO          -0.0943      0.002    -60.444      0.000      -0.097      -0.091\n",
      "==============================================================================\n",
      "Omnibus:                      109.283   Durbin-Watson:                   1.934\n",
      "Prob(Omnibus):                  0.000   Jarque-Bera (JB):              180.530\n",
      "Skew:                           0.482   Prob(JB):                     6.29e-40\n",
      "Kurtosis:                       4.242   Cond. No.                     3.38e+05\n",
      "==============================================================================\n",
      "\n",
      "Notes:\n",
      "[1] Standard Errors assume that the covariance matrix of the errors is correctly specified.\n",
      "[2] The condition number is large, 3.38e+05. This might indicate that there are\n",
      "strong multicollinearity or other numerical problems.\n"
     ]
    }
   ],
   "source": [
    "loan_model3 = viewOLS(X)\n",
    "print(loan_model3.summary())"
   ],
   "metadata": {
    "collapsed": false
   }
  },
  {
   "cell_type": "code",
   "execution_count": 34,
   "outputs": [
    {
     "data": {
      "text/plain": "const         77.628889\nLoanAmt        0.000146\nLoanTerm       3.412037\nDebt2Inc      -0.017402\nHome_RENT      0.232231\nMonthlyInc    -0.000047\nFICO          -0.094256\ndtype: float64"
     },
     "execution_count": 34,
     "metadata": {},
     "output_type": "execute_result"
    }
   ],
   "source": [
    "# Create coefficient array from teh report\n",
    "coeff = loan_model3.params\n",
    "coeff"
   ],
   "metadata": {
    "collapsed": false
   }
  },
  {
   "cell_type": "code",
   "execution_count": 35,
   "outputs": [
    {
     "data": {
      "text/plain": "np.float64(12.527151788581264)"
     },
     "execution_count": 35,
     "metadata": {},
     "output_type": "execute_result"
    }
   ],
   "source": [
    "# Base case sample\n",
    "LoanAmt = 10000\n",
    "LoanTerm = 0 # 36 month = 0\n",
    "Debt2Inc = 20\n",
    "Home_RENT = 0 # Home_MORT or Home_OWN = 0\n",
    "MonthlyInc = 5000\n",
    "FICO = 700\n",
    "base_int_rate = (coeff.iloc[0] +\n",
    "                 coeff.iloc[1]*LoanAmt +\n",
    "                 coeff.iloc[2]*LoanTerm +\n",
    "                 coeff.iloc[3]*Debt2Inc +\n",
    "                 coeff.iloc[4]*Home_RENT +\n",
    "                 coeff.iloc[5]*MonthlyInc +\n",
    "                 coeff.iloc[6]*FICO)\n",
    "base_int_rate"
   ],
   "metadata": {
    "collapsed": false
   }
  },
  {
   "cell_type": "code",
   "execution_count": 36,
   "outputs": [
    {
     "data": {
      "text/plain": "np.float64(12.673207697597647)"
     },
     "execution_count": 36,
     "metadata": {},
     "output_type": "execute_result"
    }
   ],
   "source": [
    "# New sample: Add 1000 to LoanAmt\n",
    "LoanAmt = 10000 + 1000\n",
    "LoanTerm = 0 # 36 month = 0\n",
    "Debt2Inc = 20\n",
    "Home_RENT = 0 # Home_MORT or Home_OWN = 0\n",
    "MonthlyInc = 5000\n",
    "FICO = 700\n",
    "int_rate = (coeff.iloc[0] +\n",
    "            coeff.iloc[1]*LoanAmt +\n",
    "            coeff.iloc[2]*LoanTerm +\n",
    "            coeff.iloc[3]*Debt2Inc +\n",
    "            coeff.iloc[4]*Home_RENT +\n",
    "            coeff.iloc[5]*MonthlyInc +\n",
    "            coeff.iloc[6]*FICO)\n",
    "int_rate"
   ],
   "metadata": {
    "collapsed": false
   }
  },
  {
   "cell_type": "markdown",
   "source": [
    "## Linear Regression Analysis Using OLS - With Centering"
   ],
   "metadata": {
    "collapsed": false
   }
  },
  {
   "cell_type": "code",
   "execution_count": 37,
   "outputs": [
    {
     "data": {
      "text/plain": "   LoanAmt  Debt2Inc  MonthlyInc  FICO\n0    20000     14.90     6541.67   737\n1    19200     28.36     4583.33   717\n2    35000     23.81    11500.00   692\n3    12000     18.78     3195.00   697\n4     6000     20.05     4891.67   672",
      "text/html": "<div>\n<style scoped>\n    .dataframe tbody tr th:only-of-type {\n        vertical-align: middle;\n    }\n\n    .dataframe tbody tr th {\n        vertical-align: top;\n    }\n\n    .dataframe thead th {\n        text-align: right;\n    }\n</style>\n<table border=\"1\" class=\"dataframe\">\n  <thead>\n    <tr style=\"text-align: right;\">\n      <th></th>\n      <th>LoanAmt</th>\n      <th>Debt2Inc</th>\n      <th>MonthlyInc</th>\n      <th>FICO</th>\n    </tr>\n  </thead>\n  <tbody>\n    <tr>\n      <th>0</th>\n      <td>20000</td>\n      <td>14.90</td>\n      <td>6541.67</td>\n      <td>737</td>\n    </tr>\n    <tr>\n      <th>1</th>\n      <td>19200</td>\n      <td>28.36</td>\n      <td>4583.33</td>\n      <td>717</td>\n    </tr>\n    <tr>\n      <th>2</th>\n      <td>35000</td>\n      <td>23.81</td>\n      <td>11500.00</td>\n      <td>692</td>\n    </tr>\n    <tr>\n      <th>3</th>\n      <td>12000</td>\n      <td>18.78</td>\n      <td>3195.00</td>\n      <td>697</td>\n    </tr>\n    <tr>\n      <th>4</th>\n      <td>6000</td>\n      <td>20.05</td>\n      <td>4891.67</td>\n      <td>672</td>\n    </tr>\n  </tbody>\n</table>\n</div>"
     },
     "execution_count": 37,
     "metadata": {},
     "output_type": "execute_result"
    }
   ],
   "source": [
    "# Create the predictors DataFrame for the predictors to be centered and display the first five records\n",
    "X_cent = loan_data[[\"LoanAmt\", \"Debt2Inc\", \"MonthlyInc\", \"FICO\"]]\n",
    "X_cent.head()"
   ],
   "metadata": {
    "collapsed": false
   }
  },
  {
   "cell_type": "code",
   "execution_count": 38,
   "outputs": [
    {
     "data": {
      "text/plain": "array([[ 8.39052511e+03, -8.06061644e-01,  1.02083215e+03,\n         3.24315068e+01],\n       [ 7.59052511e+03,  1.26539384e+01, -9.37507854e+02,\n         1.24315068e+01],\n       [ 2.33905251e+04,  8.10393836e+00,  5.97916215e+03,\n        -1.25684932e+01],\n       [ 3.90525114e+02,  3.07393836e+00, -2.32583785e+03,\n        -7.56849315e+00],\n       [-5.60947489e+03,  4.34393836e+00, -6.29167854e+02,\n        -3.25684932e+01]])"
     },
     "execution_count": 38,
     "metadata": {},
     "output_type": "execute_result"
    }
   ],
   "source": [
    "# Center the data and display the first five rows\n",
    "# Set the with_std param to False, for only centering\n",
    "sc = StandardScaler(with_std=False)\n",
    "X_cent = sc.fit_transform(X_cent)\n",
    "X_cent[:5]"
   ],
   "metadata": {
    "collapsed": false
   }
  },
  {
   "cell_type": "code",
   "execution_count": 39,
   "outputs": [
    {
     "data": {
      "text/plain": "        LoanAmt   Debt2Inc   MonthlyInc       FICO\n0   8390.525114  -0.806062  1020.832146  32.431507\n1   7590.525114  12.653938  -937.507854  12.431507\n2  23390.525114   8.103938  5979.162146 -12.568493\n3    390.525114   3.073938 -2325.837854  -7.568493\n4  -5609.474886   4.343938  -629.167854 -32.568493",
      "text/html": "<div>\n<style scoped>\n    .dataframe tbody tr th:only-of-type {\n        vertical-align: middle;\n    }\n\n    .dataframe tbody tr th {\n        vertical-align: top;\n    }\n\n    .dataframe thead th {\n        text-align: right;\n    }\n</style>\n<table border=\"1\" class=\"dataframe\">\n  <thead>\n    <tr style=\"text-align: right;\">\n      <th></th>\n      <th>LoanAmt</th>\n      <th>Debt2Inc</th>\n      <th>MonthlyInc</th>\n      <th>FICO</th>\n    </tr>\n  </thead>\n  <tbody>\n    <tr>\n      <th>0</th>\n      <td>8390.525114</td>\n      <td>-0.806062</td>\n      <td>1020.832146</td>\n      <td>32.431507</td>\n    </tr>\n    <tr>\n      <th>1</th>\n      <td>7590.525114</td>\n      <td>12.653938</td>\n      <td>-937.507854</td>\n      <td>12.431507</td>\n    </tr>\n    <tr>\n      <th>2</th>\n      <td>23390.525114</td>\n      <td>8.103938</td>\n      <td>5979.162146</td>\n      <td>-12.568493</td>\n    </tr>\n    <tr>\n      <th>3</th>\n      <td>390.525114</td>\n      <td>3.073938</td>\n      <td>-2325.837854</td>\n      <td>-7.568493</td>\n    </tr>\n    <tr>\n      <th>4</th>\n      <td>-5609.474886</td>\n      <td>4.343938</td>\n      <td>-629.167854</td>\n      <td>-32.568493</td>\n    </tr>\n  </tbody>\n</table>\n</div>"
     },
     "execution_count": 39,
     "metadata": {},
     "output_type": "execute_result"
    }
   ],
   "source": [
    "# Create a DataFrame from these centered predictors and display the first five records\n",
    "X_cent = DataFrame(X_cent, columns=[\"LoanAmt\", \"Debt2Inc\", \"MonthlyInc\", \"FICO\"])\n",
    "X_cent.head()"
   ],
   "metadata": {
    "collapsed": false
   }
  },
  {
   "cell_type": "code",
   "execution_count": 40,
   "outputs": [
    {
     "data": {
      "text/plain": "        LoanAmt   Debt2Inc   MonthlyInc       FICO  LoanTerm  Home_RENT\n0   8390.525114  -0.806062  1020.832146  32.431507         0          0\n1   7590.525114  12.653938  -937.507854  12.431507         0          0\n2  23390.525114   8.103938  5979.162146 -12.568493         1          0\n3    390.525114   3.073938 -2325.837854  -7.568493         0          1\n4  -5609.474886   4.343938  -629.167854 -32.568493         0          0",
      "text/html": "<div>\n<style scoped>\n    .dataframe tbody tr th:only-of-type {\n        vertical-align: middle;\n    }\n\n    .dataframe tbody tr th {\n        vertical-align: top;\n    }\n\n    .dataframe thead th {\n        text-align: right;\n    }\n</style>\n<table border=\"1\" class=\"dataframe\">\n  <thead>\n    <tr style=\"text-align: right;\">\n      <th></th>\n      <th>LoanAmt</th>\n      <th>Debt2Inc</th>\n      <th>MonthlyInc</th>\n      <th>FICO</th>\n      <th>LoanTerm</th>\n      <th>Home_RENT</th>\n    </tr>\n  </thead>\n  <tbody>\n    <tr>\n      <th>0</th>\n      <td>8390.525114</td>\n      <td>-0.806062</td>\n      <td>1020.832146</td>\n      <td>32.431507</td>\n      <td>0</td>\n      <td>0</td>\n    </tr>\n    <tr>\n      <th>1</th>\n      <td>7590.525114</td>\n      <td>12.653938</td>\n      <td>-937.507854</td>\n      <td>12.431507</td>\n      <td>0</td>\n      <td>0</td>\n    </tr>\n    <tr>\n      <th>2</th>\n      <td>23390.525114</td>\n      <td>8.103938</td>\n      <td>5979.162146</td>\n      <td>-12.568493</td>\n      <td>1</td>\n      <td>0</td>\n    </tr>\n    <tr>\n      <th>3</th>\n      <td>390.525114</td>\n      <td>3.073938</td>\n      <td>-2325.837854</td>\n      <td>-7.568493</td>\n      <td>0</td>\n      <td>1</td>\n    </tr>\n    <tr>\n      <th>4</th>\n      <td>-5609.474886</td>\n      <td>4.343938</td>\n      <td>-629.167854</td>\n      <td>-32.568493</td>\n      <td>0</td>\n      <td>0</td>\n    </tr>\n  </tbody>\n</table>\n</div>"
     },
     "execution_count": 40,
     "metadata": {},
     "output_type": "execute_result"
    }
   ],
   "source": [
    "# Join together the centered and indicator columns into the predictors DataFrame\n",
    "X = X_cent.join (loan_data[\"LoanTerm\"])\n",
    "X = X.join (loan_data[\"Home_RENT\"])\n",
    "X.head()"
   ],
   "metadata": {
    "collapsed": false
   }
  },
  {
   "cell_type": "code",
   "execution_count": 41,
   "outputs": [
    {
     "name": "stdout",
     "output_type": "stream",
     "text": [
      "                            OLS Regression Results                            \n",
      "==============================================================================\n",
      "Dep. Variable:                IntRate   R-squared:                       0.753\n",
      "Model:                            OLS   Adj. R-squared:                  0.752\n",
      "Method:                 Least Squares   F-statistic:                     887.7\n",
      "Date:                Wed, 11 Dec 2024   Prob (F-statistic):               0.00\n",
      "Time:                        23:24:51   Log-Likelihood:                -3774.3\n",
      "No. Observations:                1752   AIC:                             7563.\n",
      "Df Residuals:                    1745   BIC:                             7601.\n",
      "Df Model:                           6                                         \n",
      "Covariance Type:            nonrobust                                         \n",
      "==============================================================================\n",
      "                 coef    std err          t      P>|t|      [0.025      0.975]\n",
      "------------------------------------------------------------------------------\n",
      "const         12.3818      0.075    164.891      0.000      12.235      12.529\n",
      "LoanAmt        0.0001   8.21e-06     17.783      0.000       0.000       0.000\n",
      "Debt2Inc      -0.0174      0.007     -2.512      0.012      -0.031      -0.004\n",
      "MonthlyInc -4.705e-05   1.83e-05     -2.566      0.010    -8.3e-05   -1.11e-05\n",
      "FICO          -0.0943      0.002    -60.444      0.000      -0.097      -0.091\n",
      "LoanTerm       3.4120      0.140     24.427      0.000       3.138       3.686\n",
      "Home_RENT      0.2322      0.103      2.257      0.024       0.030       0.434\n",
      "==============================================================================\n",
      "Omnibus:                      109.283   Durbin-Watson:                   1.934\n",
      "Prob(Omnibus):                  0.000   Jarque-Bera (JB):              180.530\n",
      "Skew:                           0.482   Prob(JB):                     6.29e-40\n",
      "Kurtosis:                       4.242   Cond. No.                     2.18e+04\n",
      "==============================================================================\n",
      "\n",
      "Notes:\n",
      "[1] Standard Errors assume that the covariance matrix of the errors is correctly specified.\n",
      "[2] The condition number is large, 2.18e+04. This might indicate that there are\n",
      "strong multicollinearity or other numerical problems.\n"
     ]
    }
   ],
   "source": [
    "centered_model = viewOLS(X)\n",
    "print(centered_model.summary())"
   ],
   "metadata": {
    "collapsed": false
   }
  },
  {
   "cell_type": "code",
   "execution_count": 42,
   "outputs": [
    {
     "data": {
      "text/plain": "const         12.381839\nLoanAmt        0.000146\nDebt2Inc      -0.017402\nMonthlyInc    -0.000047\nFICO          -0.094256\nLoanTerm       3.412037\nHome_RENT      0.232231\ndtype: float64"
     },
     "execution_count": 42,
     "metadata": {},
     "output_type": "execute_result"
    }
   ],
   "source": [
    "# Create coefficient array from the report\n",
    "coeff = centered_model.params\n",
    "coeff"
   ],
   "metadata": {
    "collapsed": false
   }
  },
  {
   "cell_type": "code",
   "execution_count": 43,
   "outputs": [],
   "source": [
    "# Create mean sample\n",
    "LoanAmt = sc.mean_[0]\n",
    "Debt2Inc = sc.mean_[1]\n",
    "MonthlyInc = sc.mean_[2]\n",
    "FICO = sc.mean_[3]\n",
    "LoanTerm = 0 # 36 month = 0\n",
    "Home_RENT = 0 # Home_MORT or Home_OWN = 0"
   ],
   "metadata": {
    "collapsed": false
   }
  },
  {
   "cell_type": "code",
   "execution_count": 44,
   "outputs": [
    {
     "data": {
      "text/plain": "array([0., 0., 0., 0.])"
     },
     "execution_count": 44,
     "metadata": {},
     "output_type": "execute_result"
    }
   ],
   "source": [
    "# Create centered sample array\n",
    "sample = [LoanAmt, Debt2Inc, MonthlyInc, FICO]\n",
    "cent_sample = (sample - sc.mean_)\n",
    "cent_sample"
   ],
   "metadata": {
    "collapsed": false
   }
  },
  {
   "cell_type": "code",
   "execution_count": 45,
   "outputs": [
    {
     "data": {
      "text/plain": "np.float64(12.381838602190395)"
     },
     "execution_count": 45,
     "metadata": {},
     "output_type": "execute_result"
    }
   ],
   "source": [
    "# Predict interest rate for base case sample\n",
    "LoanAmt = cent_sample[0]\n",
    "Debt2Inc = cent_sample[1]\n",
    "MonthlyInc = cent_sample[2]\n",
    "FICO = cent_sample[3]\n",
    "base_int_rate = (coeff.iloc[0] +\n",
    "                 coeff.iloc[1]*LoanAmt +\n",
    "                 coeff.iloc[2]*Debt2Inc +\n",
    "                 coeff.iloc[3]*MonthlyInc +\n",
    "                 coeff.iloc[4]*FICO +\n",
    "                 coeff.iloc[5]*LoanTerm +\n",
    "                 coeff.iloc[6]*Home_RENT)\n",
    "base_int_rate"
   ],
   "metadata": {
    "collapsed": false
   }
  },
  {
   "cell_type": "markdown",
   "source": [
    "## Evaluating the Centered Linear Regression Model"
   ],
   "metadata": {
    "collapsed": false
   }
  },
  {
   "cell_type": "code",
   "execution_count": 46,
   "outputs": [],
   "source": [
    "# Split the DataFrame into train and test\n",
    "X_train, X_test, Y_train, Y_test = train_test_split(X, Y, random_state=33, test_size=0.25)"
   ],
   "metadata": {
    "collapsed": false
   }
  },
  {
   "cell_type": "code",
   "execution_count": 47,
   "outputs": [],
   "source": [
    "# Run Linear Regression on the train set\n",
    "lr = LinearRegression()\n",
    "model = lr.fit(X_train, Y_train)"
   ],
   "metadata": {
    "collapsed": false
   }
  },
  {
   "cell_type": "code",
   "execution_count": 48,
   "outputs": [
    {
     "data": {
      "text/plain": "0.780690401391094"
     },
     "execution_count": 48,
     "metadata": {},
     "output_type": "execute_result"
    }
   ],
   "source": [
    "# Report the R-squared score\n",
    "model.score(X_test, Y_test)"
   ],
   "metadata": {
    "collapsed": false
   }
  },
  {
   "cell_type": "code",
   "execution_count": 49,
   "outputs": [
    {
     "data": {
      "text/plain": "4.185137896883718"
     },
     "execution_count": 49,
     "metadata": {},
     "output_type": "execute_result"
    }
   ],
   "source": [
    "Y_pred = lr.predict(X_test)\n",
    "metrics.mean_squared_error(Y_test, Y_pred)"
   ],
   "metadata": {
    "collapsed": false
   }
  },
  {
   "cell_type": "code",
   "execution_count": 50,
   "outputs": [
    {
     "name": "stdout",
     "output_type": "stream",
     "text": [
      "Minimum R-squared: 0.7064262336718382 Rand State: 11\n",
      "Maximum R-squared: 0.780690401391094 Rand State: 33\n",
      "Minimum MSE: 4.185137896883718 Rand State: 33\n",
      "Maximum MSE: 35.92159455963931 Rand State: 3\n"
     ]
    }
   ],
   "source": [
    "# Run at various random states\n",
    "r_squ = []\n",
    "mse = []\n",
    "rand_state = [1,3,5,7,11,15,21,33,35]\n",
    "for rs in rand_state:\n",
    "    # Split the DataFrames into train and test\n",
    "    X_train, X_test, Y_train, Y_test = train_test_split (X, Y, random_state = rs, test_size = 0.25)\n",
    "    # Run linear regression on the train set\n",
    "    lr = LinearRegression()\n",
    "    model = lr.fit (X_train, Y_train)\n",
    "    # Save the R-squared and MSE scores\n",
    "    r_squ.append (model.score (X_test, Y_test))\n",
    "    mse.append (metrics.mean_squared_error (Y_test,Y_pred))\n",
    "    r_squ_array = np.array (r_squ)\n",
    "    mse_array = np.array (mse)\n",
    "print (\"Minimum R-squared:\", r_squ_array.min(),\n",
    "       \"Rand State:\", rand_state[r_squ_array.argmin()])\n",
    "print (\"Maximum R-squared:\", r_squ_array.max(),\n",
    "       \"Rand State:\", rand_state[r_squ_array.argmax()])\n",
    "print (\"Minimum MSE:\", mse_array.min(),\n",
    "       \"Rand State:\", rand_state[mse_array.argmin()])\n",
    "print (\"Maximum MSE:\", mse_array.max(),\n",
    "       \"Rand State:\", rand_state[mse_array.argmax()])"
   ],
   "metadata": {
    "collapsed": false
   }
  },
  {
   "cell_type": "code",
   "execution_count": 51,
   "outputs": [
    {
     "name": "stdout",
     "output_type": "stream",
     "text": [
      "Mean R-Squared Score:  0.749889629297859\n"
     ]
    }
   ],
   "source": [
    "# Use cross validation to find the mean R-squared score\n",
    "lr = LinearRegression()\n",
    "scores = cross_val_score(lr, X, Y, cv=10)\n",
    "print(\"Mean R-Squared Score: \", sum(scores)/10)"
   ],
   "metadata": {
    "collapsed": false
   }
  },
  {
   "cell_type": "markdown",
   "source": [
    "## Ridge Regression on Centered Model, alpha = 0"
   ],
   "metadata": {
    "collapsed": false
   }
  },
  {
   "cell_type": "code",
   "execution_count": 53,
   "outputs": [
    {
     "data": {
      "text/plain": "array([ 8.9 , 12.12, 21.98, 11.71, 15.31])"
     },
     "execution_count": 53,
     "metadata": {},
     "output_type": "execute_result"
    }
   ],
   "source": [
    "# Create Response DataFrame\n",
    "Y = loan_data[[\"IntRate\"]]\n",
    "Y = Y.values\n",
    "Y = Y.ravel()\n",
    "Y[:5]"
   ],
   "metadata": {
    "collapsed": false
   }
  },
  {
   "cell_type": "code",
   "execution_count": 54,
   "outputs": [],
   "source": [
    "# Split the DataFrames into train and test using random_state and test_size = 0.25\n",
    "X_train, X_test, Y_train, Y_test = train_test_split(X, Y, random_state=33, test_size=0.25)"
   ],
   "metadata": {
    "collapsed": false
   }
  },
  {
   "cell_type": "code",
   "execution_count": 57,
   "outputs": [],
   "source": [
    "# Fit the Ridge mode with alpha=0 to produce a set of predictions\n",
    "ridgemod = Ridge(alpha=0)\n",
    "ridgemod.fit(X_train, Y_train)\n",
    "Y_pred = ridgemod.predict(X_test)"
   ],
   "metadata": {
    "collapsed": false
   }
  },
  {
   "cell_type": "code",
   "execution_count": 58,
   "outputs": [
    {
     "data": {
      "text/plain": "array([ 1.47000317e-04, -1.22104638e-02, -5.41948484e-05, -9.35859533e-02,\n        3.31168242e+00,  2.05338866e-01])"
     },
     "execution_count": 58,
     "metadata": {},
     "output_type": "execute_result"
    }
   ],
   "source": [
    "# Display the ridge coefficients\n",
    "ridgemod.coef_"
   ],
   "metadata": {
    "collapsed": false
   }
  },
  {
   "cell_type": "code",
   "execution_count": 59,
   "outputs": [
    {
     "data": {
      "text/plain": "np.float64(12.430343488633653)"
     },
     "execution_count": 59,
     "metadata": {},
     "output_type": "execute_result"
    }
   ],
   "source": [
    "# Display the Ridge intercept\n",
    "ridgemod.intercept_"
   ],
   "metadata": {
    "collapsed": false
   }
  },
  {
   "cell_type": "code",
   "execution_count": 60,
   "outputs": [
    {
     "name": "stdout",
     "output_type": "stream",
     "text": [
      "R-Squared Score:  0.7806904013910905\n"
     ]
    }
   ],
   "source": [
    "print(\"R-Squared Score: \", ridgemod.score(X_test, Y_test))"
   ],
   "metadata": {
    "collapsed": false
   }
  },
  {
   "cell_type": "code",
   "execution_count": 61,
   "outputs": [
    {
     "name": "stdout",
     "output_type": "stream",
     "text": [
      "Ridge alpha=0 MSE 4.185137896883786\n"
     ]
    }
   ],
   "source": [
    "# Display the MSE score\n",
    "print(\"Ridge alpha=0 MSE\",\n",
    "      metrics.mean_squared_error(Y_test, Y_pred))"
   ],
   "metadata": {
    "collapsed": false
   }
  },
  {
   "cell_type": "code",
   "execution_count": 62,
   "outputs": [],
   "source": [
    "# Create Predictor DataFrame\n",
    "X_Full = loan_data.drop([\"IntRate\"], axis=1)"
   ],
   "metadata": {
    "collapsed": false
   }
  },
  {
   "cell_type": "code",
   "execution_count": 63,
   "outputs": [],
   "source": [
    "# Split the DataFrame into train and test using random_state=33\n",
    "X_train, X_test, Y_train, Y_test = train_test_split(X_Full, Y, random_state=33, test_size=0.25)"
   ],
   "metadata": {
    "collapsed": false
   }
  },
  {
   "cell_type": "code",
   "execution_count": 64,
   "outputs": [
    {
     "name": "stdout",
     "output_type": "stream",
     "text": [
      "RidgeCV alpha list:  [0.01, 0.1, 0.25, 0.5, 0.75, 1, 2.5, 5]\n"
     ]
    }
   ],
   "source": [
    "# Create a list of alpha values for RidgeCV\n",
    "alpha_range = [0.01, 0.1, 0.25, 0.5, 0.75, 1, 2.5, 5]\n",
    "print(\"RidgeCV alpha list: \", alpha_range)"
   ],
   "metadata": {
    "collapsed": false
   }
  },
  {
   "cell_type": "code",
   "execution_count": 65,
   "outputs": [],
   "source": [
    "# Run RidgeCV Regression\n",
    "# Select the best alpha with RidgeCV\n",
    "ridcvmod = RidgeCV(alphas=alpha_range, scoring=\"neg_mean_squared_error\")\n",
    "ridcvmod.fit(X_train, Y_train)\n",
    "Y_pred = ridcvmod.predict(X_test)"
   ],
   "metadata": {
    "collapsed": false
   }
  },
  {
   "cell_type": "code",
   "execution_count": 66,
   "outputs": [
    {
     "name": "stdout",
     "output_type": "stream",
     "text": [
      "RidgeCV Regression Best Alpha:  1.0\n"
     ]
    }
   ],
   "source": [
    "# Display the RidgeCV best alpha\n",
    "print(\"RidgeCV Regression Best Alpha: \", ridcvmod.alpha_)"
   ],
   "metadata": {
    "collapsed": false
   }
  },
  {
   "cell_type": "code",
   "execution_count": 67,
   "outputs": [
    {
     "name": "stdout",
     "output_type": "stream",
     "text": [
      "RidgeCV Regression Coefficients:  [ 1.47697632e-04  3.30368950e+00 -1.07931122e-02  4.90475469e-01\n",
      "  2.89121905e-01 -4.25684702e-05 -2.68110307e-06 -9.34558680e-02\n",
      "  2.51311928e-03]\n"
     ]
    }
   ],
   "source": [
    "# Display the RidgeCV coefficients\n",
    "print(\"RidgeCV Regression Coefficients: \", ridcvmod.coef_)"
   ],
   "metadata": {
    "collapsed": false
   }
  },
  {
   "cell_type": "code",
   "execution_count": 68,
   "outputs": [
    {
     "name": "stdout",
     "output_type": "stream",
     "text": [
      "RidgeCV Regression Test R-Squared:  0.780079490105551\n"
     ]
    }
   ],
   "source": [
    "# Display the RidgeCV Regression R-Squared\n",
    "print(\"RidgeCV Regression Test R-Squared: \", ridcvmod.score(X_test, Y_test))"
   ],
   "metadata": {
    "collapsed": false
   }
  },
  {
   "cell_type": "code",
   "execution_count": 69,
   "outputs": [
    {
     "name": "stdout",
     "output_type": "stream",
     "text": [
      "RidgeCV Regression MSE:  4.196796064100191\n"
     ]
    }
   ],
   "source": [
    "# Display the RidgeCV MSE\n",
    "print(\"RidgeCV Regression MSE: \", metrics.mean_squared_error(Y_pred, Y_test))"
   ],
   "metadata": {
    "collapsed": false
   }
  },
  {
   "cell_type": "markdown",
   "source": [
    "## Lasso Regression on Full Model"
   ],
   "metadata": {
    "collapsed": false
   }
  },
  {
   "cell_type": "code",
   "execution_count": 70,
   "outputs": [],
   "source": [
    "# Run  LassoCV Regression\n",
    "# Select the best alpha with LassoCV\n",
    "lascvmod = LassoCV(n_alphas=100, random_state=33)\n",
    "lascvmod.fit(X_train, Y_train)\n",
    "Y_pred = lascvmod.predict(X_test)"
   ],
   "metadata": {
    "collapsed": false
   }
  },
  {
   "cell_type": "code",
   "execution_count": 71,
   "outputs": [
    {
     "name": "stdout",
     "output_type": "stream",
     "text": [
      "LassoCV Regression Best Alpha:  9.054246228127488\n"
     ]
    }
   ],
   "source": [
    "# Display the LassoCV best alpha\n",
    "print(\"LassoCV Regression Best Alpha: \", lascvmod.alpha_)"
   ],
   "metadata": {
    "collapsed": false
   }
  },
  {
   "cell_type": "code",
   "execution_count": 72,
   "outputs": [
    {
     "name": "stdout",
     "output_type": "stream",
     "text": [
      "LassoCV Regression Coefficients:  [ 2.15170508e-04  0.00000000e+00 -0.00000000e+00  0.00000000e+00\n",
      "  0.00000000e+00 -1.00809240e-04 -4.60023078e-06 -8.61109782e-02\n",
      " -0.00000000e+00]\n"
     ]
    }
   ],
   "source": [
    "# Display the LassoCV coefficients\n",
    "print(\"LassoCV Regression Coefficients: \", lascvmod.coef_)"
   ],
   "metadata": {
    "collapsed": false
   }
  },
  {
   "cell_type": "code",
   "execution_count": 73,
   "outputs": [
    {
     "name": "stdout",
     "output_type": "stream",
     "text": [
      "LassoCV Regression Intercept:  71.9225125495878\n"
     ]
    }
   ],
   "source": [
    "# Display the LassoCV intercept\n",
    "print(\"LassoCV Regression Intercept: \", lascvmod.intercept_)"
   ],
   "metadata": {
    "collapsed": false
   }
  },
  {
   "cell_type": "code",
   "execution_count": 74,
   "outputs": [
    {
     "name": "stdout",
     "output_type": "stream",
     "text": [
      "LassoCV Regression Test R-Squared:  0.6778815827022546\n"
     ]
    }
   ],
   "source": [
    "# Display the R-Squared\n",
    "print(\"LassoCV Regression Test R-Squared: \", lascvmod.score(X_test, Y_test))"
   ],
   "metadata": {
    "collapsed": false
   }
  },
  {
   "cell_type": "code",
   "execution_count": 75,
   "outputs": [
    {
     "name": "stdout",
     "output_type": "stream",
     "text": [
      "LassoCV Regression RMSE:  6.147063348198807\n"
     ]
    }
   ],
   "source": [
    "# Display the LassoCV RMSE\n",
    "print(\"LassoCV Regression RMSE: \", metrics.mean_squared_error(Y_pred, Y_test))"
   ],
   "metadata": {
    "collapsed": false
   }
  },
  {
   "cell_type": "markdown",
   "source": [
    "### Lasso regression prefers setting many model coefficients to exactly zero. This is a type of feature selection. It is the same as removing the predictor from the model. Using this full dataset, the LassoCV algorithm zeroed out the EmpLen variable coefficient. This was the first feature dropped during backward elimination with ordinary linear regression. Its p-value was much larger than any of the others."
   ],
   "metadata": {
    "collapsed": false
   }
  },
  {
   "cell_type": "code",
   "execution_count": null,
   "outputs": [],
   "source": [],
   "metadata": {
    "collapsed": false
   }
  }
 ],
 "metadata": {
  "kernelspec": {
   "display_name": "Python 3",
   "language": "python",
   "name": "python3"
  },
  "language_info": {
   "codemirror_mode": {
    "name": "ipython",
    "version": 2
   },
   "file_extension": ".py",
   "mimetype": "text/x-python",
   "name": "python",
   "nbconvert_exporter": "python",
   "pygments_lexer": "ipython2",
   "version": "2.7.6"
  }
 },
 "nbformat": 4,
 "nbformat_minor": 0
}

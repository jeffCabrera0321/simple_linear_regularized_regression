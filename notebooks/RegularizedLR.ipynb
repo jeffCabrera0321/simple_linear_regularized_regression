{
 "cells": [
  {
   "cell_type": "markdown",
   "source": [
    "## Regularized Linear Regression"
   ],
   "metadata": {
    "collapsed": false
   }
  },
  {
   "cell_type": "code",
   "execution_count": 2,
   "outputs": [],
   "source": [
    "# import libraries\n",
    "import numpy as np\n",
    "import pandas as pd\n",
    "from pandas import Series, DataFrame\n",
    "from sklearn.linear_model import LinearRegression\n",
    "from sklearn.linear_model import Ridge, RidgeCV\n",
    "from sklearn.linear_model import Lasso, LassoCV\n",
    "from sklearn import metrics\n",
    "from sklearn.model_selection import cross_val_score, train_test_split\n",
    "from sklearn.preprocessing import StandardScaler\n",
    "from sklearn.decomposition import PCA\n",
    "import statsmodels.api as sm\n",
    "import matplotlib.pyplot as plt\n",
    "import seaborn as sns; sns,set()\n",
    "%matplotlib inline"
   ],
   "metadata": {
    "collapsed": false
   }
  },
  {
   "cell_type": "code",
   "execution_count": 3,
   "outputs": [],
   "source": [
    "# Import Data\n",
    "cols = [\"ID\", \"IntRate\", \"LoanAmt\", \"LoanTerm\", \"Debt2Inc\", \"Home_OWN\", \"Home_RENT\", \"MonthlyInc\", \"RevCredBal\", \"FICO\", \"EmpLen\"]\n",
    "loan_data = pd.read_csv(\"../data/loansDataClean.csv\")\n",
    "# see https://github.com/jeffCabrera0321/Simple_linear_regression on how this was cleaned\n",
    "loan_data = loan_data.drop([\"ID\"], axis=1)"
   ],
   "metadata": {
    "collapsed": false
   }
  },
  {
   "cell_type": "code",
   "execution_count": 4,
   "outputs": [
    {
     "data": {
      "text/plain": "   IntRate  LoanAmt  LoanTerm  Debt2Inc  Home_OWN  Home_RENT  MonthlyInc  \\\n0     8.90    20000        36     14.90     False      False     6541.67   \n1    12.12    19200        36     28.36     False      False     4583.33   \n2    21.98    35000        60     23.81     False      False    11500.00   \n3    11.71    12000        36     18.78     False       True     3195.00   \n4    15.31     6000        36     20.05      True      False     4891.67   \n\n   RevCredBal  FICO  EmpLen  \n0     14272.0   737       1  \n1     11140.0   717       2  \n2     21977.0   692       2  \n3     14469.0   697       9  \n4     10391.0   672       3  ",
      "text/html": "<div>\n<style scoped>\n    .dataframe tbody tr th:only-of-type {\n        vertical-align: middle;\n    }\n\n    .dataframe tbody tr th {\n        vertical-align: top;\n    }\n\n    .dataframe thead th {\n        text-align: right;\n    }\n</style>\n<table border=\"1\" class=\"dataframe\">\n  <thead>\n    <tr style=\"text-align: right;\">\n      <th></th>\n      <th>IntRate</th>\n      <th>LoanAmt</th>\n      <th>LoanTerm</th>\n      <th>Debt2Inc</th>\n      <th>Home_OWN</th>\n      <th>Home_RENT</th>\n      <th>MonthlyInc</th>\n      <th>RevCredBal</th>\n      <th>FICO</th>\n      <th>EmpLen</th>\n    </tr>\n  </thead>\n  <tbody>\n    <tr>\n      <th>0</th>\n      <td>8.90</td>\n      <td>20000</td>\n      <td>36</td>\n      <td>14.90</td>\n      <td>False</td>\n      <td>False</td>\n      <td>6541.67</td>\n      <td>14272.0</td>\n      <td>737</td>\n      <td>1</td>\n    </tr>\n    <tr>\n      <th>1</th>\n      <td>12.12</td>\n      <td>19200</td>\n      <td>36</td>\n      <td>28.36</td>\n      <td>False</td>\n      <td>False</td>\n      <td>4583.33</td>\n      <td>11140.0</td>\n      <td>717</td>\n      <td>2</td>\n    </tr>\n    <tr>\n      <th>2</th>\n      <td>21.98</td>\n      <td>35000</td>\n      <td>60</td>\n      <td>23.81</td>\n      <td>False</td>\n      <td>False</td>\n      <td>11500.00</td>\n      <td>21977.0</td>\n      <td>692</td>\n      <td>2</td>\n    </tr>\n    <tr>\n      <th>3</th>\n      <td>11.71</td>\n      <td>12000</td>\n      <td>36</td>\n      <td>18.78</td>\n      <td>False</td>\n      <td>True</td>\n      <td>3195.00</td>\n      <td>14469.0</td>\n      <td>697</td>\n      <td>9</td>\n    </tr>\n    <tr>\n      <th>4</th>\n      <td>15.31</td>\n      <td>6000</td>\n      <td>36</td>\n      <td>20.05</td>\n      <td>True</td>\n      <td>False</td>\n      <td>4891.67</td>\n      <td>10391.0</td>\n      <td>672</td>\n      <td>3</td>\n    </tr>\n  </tbody>\n</table>\n</div>"
     },
     "execution_count": 4,
     "metadata": {},
     "output_type": "execute_result"
    }
   ],
   "source": [
    "# Display the dataset\n",
    "loan_data.head()"
   ],
   "metadata": {
    "collapsed": false
   }
  },
  {
   "cell_type": "code",
   "execution_count": 5,
   "outputs": [
    {
     "data": {
      "text/plain": "0    0\n1    0\n2    1\n3    0\n4    0\nName: LoanTerm, dtype: int64"
     },
     "execution_count": 5,
     "metadata": {},
     "output_type": "execute_result"
    }
   ],
   "source": [
    "# Convert LoanTerm from 36 to 0 and 60 to 1\n",
    "loan_data[\"LoanTerm\"] = np.where(loan_data[\"LoanTerm\"] == 36, 0, 1)\n",
    "loan_data[\"LoanTerm\"].head()"
   ],
   "metadata": {
    "collapsed": false
   }
  },
  {
   "cell_type": "code",
   "execution_count": 6,
   "outputs": [
    {
     "data": {
      "text/plain": "   IntRate\n0     8.90\n1    12.12\n2    21.98\n3    11.71\n4    15.31",
      "text/html": "<div>\n<style scoped>\n    .dataframe tbody tr th:only-of-type {\n        vertical-align: middle;\n    }\n\n    .dataframe tbody tr th {\n        vertical-align: top;\n    }\n\n    .dataframe thead th {\n        text-align: right;\n    }\n</style>\n<table border=\"1\" class=\"dataframe\">\n  <thead>\n    <tr style=\"text-align: right;\">\n      <th></th>\n      <th>IntRate</th>\n    </tr>\n  </thead>\n  <tbody>\n    <tr>\n      <th>0</th>\n      <td>8.90</td>\n    </tr>\n    <tr>\n      <th>1</th>\n      <td>12.12</td>\n    </tr>\n    <tr>\n      <th>2</th>\n      <td>21.98</td>\n    </tr>\n    <tr>\n      <th>3</th>\n      <td>11.71</td>\n    </tr>\n    <tr>\n      <th>4</th>\n      <td>15.31</td>\n    </tr>\n  </tbody>\n</table>\n</div>"
     },
     "execution_count": 6,
     "metadata": {},
     "output_type": "execute_result"
    }
   ],
   "source": [
    "# Create the response DataFrame and display the first five records\n",
    "Y = loan_data[[\"IntRate\"]]\n",
    "Y.head()"
   ],
   "metadata": {
    "collapsed": false
   }
  },
  {
   "cell_type": "code",
   "execution_count": 7,
   "outputs": [
    {
     "data": {
      "text/plain": "   LoanAmt  Debt2Inc  MonthlyInc  FICO\n0    20000     14.90     6541.67   737\n1    19200     28.36     4583.33   717\n2    35000     23.81    11500.00   692\n3    12000     18.78     3195.00   697\n4     6000     20.05     4891.67   672",
      "text/html": "<div>\n<style scoped>\n    .dataframe tbody tr th:only-of-type {\n        vertical-align: middle;\n    }\n\n    .dataframe tbody tr th {\n        vertical-align: top;\n    }\n\n    .dataframe thead th {\n        text-align: right;\n    }\n</style>\n<table border=\"1\" class=\"dataframe\">\n  <thead>\n    <tr style=\"text-align: right;\">\n      <th></th>\n      <th>LoanAmt</th>\n      <th>Debt2Inc</th>\n      <th>MonthlyInc</th>\n      <th>FICO</th>\n    </tr>\n  </thead>\n  <tbody>\n    <tr>\n      <th>0</th>\n      <td>20000</td>\n      <td>14.90</td>\n      <td>6541.67</td>\n      <td>737</td>\n    </tr>\n    <tr>\n      <th>1</th>\n      <td>19200</td>\n      <td>28.36</td>\n      <td>4583.33</td>\n      <td>717</td>\n    </tr>\n    <tr>\n      <th>2</th>\n      <td>35000</td>\n      <td>23.81</td>\n      <td>11500.00</td>\n      <td>692</td>\n    </tr>\n    <tr>\n      <th>3</th>\n      <td>12000</td>\n      <td>18.78</td>\n      <td>3195.00</td>\n      <td>697</td>\n    </tr>\n    <tr>\n      <th>4</th>\n      <td>6000</td>\n      <td>20.05</td>\n      <td>4891.67</td>\n      <td>672</td>\n    </tr>\n  </tbody>\n</table>\n</div>"
     },
     "execution_count": 7,
     "metadata": {},
     "output_type": "execute_result"
    }
   ],
   "source": [
    "# Create the predictors DataFrame for the predictors to be standardized and display the first records\n",
    "# see https://github.com/jeffCabrera0321/Simple_linear_regression on why these independents features were chosen\n",
    "X_std = loan_data[[\"LoanAmt\", \"Debt2Inc\", \"MonthlyInc\", \"FICO\"]]\n",
    "X_std.head()"
   ],
   "metadata": {
    "collapsed": false
   }
  },
  {
   "cell_type": "code",
   "execution_count": 8,
   "outputs": [
    {
     "data": {
      "text/plain": "array([[ 1.1276208 , -0.1056352 ,  0.32047414,  0.97751917],\n       [ 1.02010707,  1.65831149, -0.29431579,  0.37469848],\n       [ 3.14350321,  1.06202936,  1.87706358, -0.37882739],\n       [ 0.05248351,  0.40284275, -0.73016008, -0.22812221],\n       [-0.75386945,  0.56927754, -0.19751732, -0.98164808]])"
     },
     "execution_count": 8,
     "metadata": {},
     "output_type": "execute_result"
    }
   ],
   "source": [
    "# Standardize teh predictors and display the first five rows\n",
    "sc = StandardScaler()\n",
    "X_std = sc.fit_transform(X_std)\n",
    "X_std[:5]"
   ],
   "metadata": {
    "collapsed": false
   }
  },
  {
   "cell_type": "code",
   "execution_count": 9,
   "outputs": [
    {
     "data": {
      "text/plain": "    LoanAmt  Debt2Inc  MonthlyInc      FICO\n0  1.127621 -0.105635    0.320474  0.977519\n1  1.020107  1.658311   -0.294316  0.374698\n2  3.143503  1.062029    1.877064 -0.378827\n3  0.052484  0.402843   -0.730160 -0.228122\n4 -0.753869  0.569278   -0.197517 -0.981648",
      "text/html": "<div>\n<style scoped>\n    .dataframe tbody tr th:only-of-type {\n        vertical-align: middle;\n    }\n\n    .dataframe tbody tr th {\n        vertical-align: top;\n    }\n\n    .dataframe thead th {\n        text-align: right;\n    }\n</style>\n<table border=\"1\" class=\"dataframe\">\n  <thead>\n    <tr style=\"text-align: right;\">\n      <th></th>\n      <th>LoanAmt</th>\n      <th>Debt2Inc</th>\n      <th>MonthlyInc</th>\n      <th>FICO</th>\n    </tr>\n  </thead>\n  <tbody>\n    <tr>\n      <th>0</th>\n      <td>1.127621</td>\n      <td>-0.105635</td>\n      <td>0.320474</td>\n      <td>0.977519</td>\n    </tr>\n    <tr>\n      <th>1</th>\n      <td>1.020107</td>\n      <td>1.658311</td>\n      <td>-0.294316</td>\n      <td>0.374698</td>\n    </tr>\n    <tr>\n      <th>2</th>\n      <td>3.143503</td>\n      <td>1.062029</td>\n      <td>1.877064</td>\n      <td>-0.378827</td>\n    </tr>\n    <tr>\n      <th>3</th>\n      <td>0.052484</td>\n      <td>0.402843</td>\n      <td>-0.730160</td>\n      <td>-0.228122</td>\n    </tr>\n    <tr>\n      <th>4</th>\n      <td>-0.753869</td>\n      <td>0.569278</td>\n      <td>-0.197517</td>\n      <td>-0.981648</td>\n    </tr>\n  </tbody>\n</table>\n</div>"
     },
     "execution_count": 9,
     "metadata": {},
     "output_type": "execute_result"
    }
   ],
   "source": [
    "# Create a DataFrame from these standardized predictors and display the first five records\n",
    "X_std = DataFrame(X_std, columns=[\"LoanAmt\", \"Debt2Inc\", \"MonthlyInc\", \"FICO\"])\n",
    "X_std.head()"
   ],
   "metadata": {
    "collapsed": false
   }
  },
  {
   "cell_type": "code",
   "execution_count": 12,
   "outputs": [
    {
     "data": {
      "text/plain": "    LoanAmt  Debt2Inc  MonthlyInc      FICO  LoanTerm  Home_RENT\n0  1.127621 -0.105635    0.320474  0.977519         0      False\n1  1.020107  1.658311   -0.294316  0.374698         0      False\n2  3.143503  1.062029    1.877064 -0.378827         1      False\n3  0.052484  0.402843   -0.730160 -0.228122         0       True\n4 -0.753869  0.569278   -0.197517 -0.981648         0      False",
      "text/html": "<div>\n<style scoped>\n    .dataframe tbody tr th:only-of-type {\n        vertical-align: middle;\n    }\n\n    .dataframe tbody tr th {\n        vertical-align: top;\n    }\n\n    .dataframe thead th {\n        text-align: right;\n    }\n</style>\n<table border=\"1\" class=\"dataframe\">\n  <thead>\n    <tr style=\"text-align: right;\">\n      <th></th>\n      <th>LoanAmt</th>\n      <th>Debt2Inc</th>\n      <th>MonthlyInc</th>\n      <th>FICO</th>\n      <th>LoanTerm</th>\n      <th>Home_RENT</th>\n    </tr>\n  </thead>\n  <tbody>\n    <tr>\n      <th>0</th>\n      <td>1.127621</td>\n      <td>-0.105635</td>\n      <td>0.320474</td>\n      <td>0.977519</td>\n      <td>0</td>\n      <td>False</td>\n    </tr>\n    <tr>\n      <th>1</th>\n      <td>1.020107</td>\n      <td>1.658311</td>\n      <td>-0.294316</td>\n      <td>0.374698</td>\n      <td>0</td>\n      <td>False</td>\n    </tr>\n    <tr>\n      <th>2</th>\n      <td>3.143503</td>\n      <td>1.062029</td>\n      <td>1.877064</td>\n      <td>-0.378827</td>\n      <td>1</td>\n      <td>False</td>\n    </tr>\n    <tr>\n      <th>3</th>\n      <td>0.052484</td>\n      <td>0.402843</td>\n      <td>-0.730160</td>\n      <td>-0.228122</td>\n      <td>0</td>\n      <td>True</td>\n    </tr>\n    <tr>\n      <th>4</th>\n      <td>-0.753869</td>\n      <td>0.569278</td>\n      <td>-0.197517</td>\n      <td>-0.981648</td>\n      <td>0</td>\n      <td>False</td>\n    </tr>\n  </tbody>\n</table>\n</div>"
     },
     "execution_count": 12,
     "metadata": {},
     "output_type": "execute_result"
    }
   ],
   "source": [
    "# Join together the standardized and indicator columns into the predictors DataFrame\n",
    "X = X_std.join(loan_data[\"LoanTerm\"])\n",
    "X = X.join(loan_data[\"Home_RENT\"])\n",
    "X.head()"
   ],
   "metadata": {
    "collapsed": false
   }
  },
  {
   "cell_type": "code",
   "execution_count": null,
   "outputs": [],
   "source": [],
   "metadata": {
    "collapsed": false
   }
  }
 ],
 "metadata": {
  "kernelspec": {
   "display_name": "Python 3",
   "language": "python",
   "name": "python3"
  },
  "language_info": {
   "codemirror_mode": {
    "name": "ipython",
    "version": 2
   },
   "file_extension": ".py",
   "mimetype": "text/x-python",
   "name": "python",
   "nbconvert_exporter": "python",
   "pygments_lexer": "ipython2",
   "version": "2.7.6"
  }
 },
 "nbformat": 4,
 "nbformat_minor": 0
}
